{
 "cells": [
  {
   "cell_type": "code",
   "execution_count": 96,
   "metadata": {},
   "outputs": [],
   "source": [
    "import os\n",
    "import random\n",
    "import re\n",
    "import pathlib\n",
    "import subprocess"
   ]
  },
  {
   "cell_type": "code",
   "execution_count": 97,
   "metadata": {},
   "outputs": [],
   "source": [
    "FONT = 'Consolas'\n",
    "OUTPUT_DIRECTORY = f'tesstrain/data/{FONT.lower()}-ground-truth'\n",
    "TRAINING_FILE_NAME_STEM = \"mac_serials\"\n",
    "FONT_DIRECTORY = './fonts'\n",
    "DATA_SET_SIZE = 800"
   ]
  },
  {
   "cell_type": "code",
   "execution_count": 98,
   "metadata": {},
   "outputs": [],
   "source": [
    "if not os.path.exists(OUTPUT_DIRECTORY):\n",
    "    os.mkdir(OUTPUT_DIRECTORY)"
   ]
  },
  {
   "cell_type": "markdown",
   "metadata": {},
   "source": [
    "# Preprocessing"
   ]
  },
  {
   "cell_type": "markdown",
   "metadata": {},
   "source": [
    "## Generating the training data\n",
    "\n",
    "This is example code that will generate fake MAC adresses and serial numbers. You may use any data here that best suits your use case, just be sure to have a single line per file."
   ]
  },
  {
   "cell_type": "code",
   "execution_count": 99,
   "metadata": {},
   "outputs": [],
   "source": [
    "def generate_random_mac():\n",
    "    return '-'.join('%02X'%random.randint(0,255) for x in range(6))\n",
    "\n",
    "def generate_random_serial():\n",
    "    return str(random.randint(20, 90)) + 'XD' + str(random.randint(3000001, 9000000))\n",
    "\n",
    "lines = []\n",
    "\n",
    "for i in range(DATA_SET_SIZE / 2):\n",
    "    lines.append(generate_random_mac())\n",
    "    lines.append(generate_random_serial())\n",
    "\n",
    "random.shuffle(lines)"
   ]
  },
  {
   "cell_type": "markdown",
   "metadata": {},
   "source": [
    "## Generating the images from the training data"
   ]
  },
  {
   "cell_type": "code",
   "execution_count": 100,
   "metadata": {},
   "outputs": [],
   "source": [
    "os.environ['FONTCONFIG_FILE'] = 'C:\\\\Absolute\\\\Path\\\\To\\\\fonts.conf' # TODO: change me. will usually be (generated) the directory this notebook resides in.\n",
    "\n",
    "line_count = 0\n",
    "for line in lines:\n",
    "    line_training_text = os.path.join(OUTPUT_DIRECTORY, f'{TRAINING_FILE_NAME_STEM}_{line_count}.gt.txt')\n",
    "    with open(line_training_text, 'w') as output_file:\n",
    "        output_file.writelines([line])\n",
    "    file_base_name = f'{TRAINING_FILE_NAME_STEM}_{line_count}'\n",
    "    result = subprocess.run([\n",
    "        'text2image',\n",
    "        f'--font={FONT}',\n",
    "        f'--text={line_training_text}',\n",
    "        f'--outputbase={OUTPUT_DIRECTORY}/{file_base_name}',\n",
    "        '--max_pages=1',\n",
    "        '--strip_unrenderable_words',\n",
    "        '--leading=0',\n",
    "        '--xsize=700',\n",
    "        '--ysize=300',\n",
    "        '--char_spacing=0.25',\n",
    "        f'--exposure={random.randint(-2,0)}',\n",
    "        '--unicharset_file=langdata/eng.unicharset',\n",
    "        f'--fonts_dir={FONT_DIRECTORY}',\n",
    "        f'--ptsize={random.randint(6,10)}',\n",
    "        '--resolution=300',\n",
    "    ])\n",
    "    line_count += 1"
   ]
  },
  {
   "cell_type": "markdown",
   "metadata": {},
   "source": [
    "# Actual training\n",
    "\n",
    "I strongly recommend to use one of tesseracts \"best\" models from [this](https://github.com/tesseract-ocr/tessdata_best) repository as the `START_MODEL`.\n",
    "\n",
    "Run in a linux (I used wsl2) shell:\n",
    "    \n",
    "```bash\n",
    "cd tesstrain\n",
    "TESSDATA_PREFIX=../tesseract/tessdata make training MODEL_NAME=Consolas START_MODEL=eng TESSDATA=../tesseract/tessdata MAX_ITERATIONS=13500 PSM=6\n",
    "```"
   ]
  }
 ],
 "metadata": {
  "kernelspec": {
   "display_name": "vss",
   "language": "python",
   "name": "python3"
  },
  "language_info": {
   "codemirror_mode": {
    "name": "ipython",
    "version": 3
   },
   "file_extension": ".py",
   "mimetype": "text/x-python",
   "name": "python",
   "nbconvert_exporter": "python",
   "pygments_lexer": "ipython3",
   "version": "3.11.5"
  },
  "orig_nbformat": 4
 },
 "nbformat": 4,
 "nbformat_minor": 2
}
